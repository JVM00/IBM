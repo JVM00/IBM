{
 "cells": [
  {
   "cell_type": "markdown",
   "id": "ba6230e7-2d57-4541-8679-903da4f42054",
   "metadata": {},
   "source": [
    "<p style=\"text-align:center\">\n",
    "    <a href=\"https://skills.network/?utm_medium=Exinfluencer&utm_source=Exinfluencer&utm_content=000026UJ&utm_term=10006555&utm_id=NA-SkillsNetwork-Channel-SkillsNetworkCoursesIBMDeveloperSkillsNetworkPY0221ENSkillsNetwork899-2023-01-01\">\n",
    "    <img src=\"https://cf-courses-data.s3.us.cloud-object-storage.appdomain.cloud/assets/logos/SN_web_lightmode.png\" width=\"200\" alt=\"Skills Network Logo\"  />\n",
    "    </a>\n",
    "</p>\n"
   ]
  },
  {
   "cell_type": "markdown",
   "id": "ee5643df-a084-4430-aeff-c968fa2b9822",
   "metadata": {},
   "source": [
    "# Peer Review Assignment - Data Engineer - Extract API Data\n"
   ]
  },
  {
   "cell_type": "markdown",
   "id": "3f09a6b2-d5a1-42ac-af46-3ac5a1c525b1",
   "metadata": {},
   "source": [
    "Estimated time needed: **20** minutes\n"
   ]
  },
  {
   "cell_type": "markdown",
   "id": "9bdba32e-f30e-41d8-be86-fdc1e86f258e",
   "metadata": {},
   "source": [
    "## Objectives\n",
    "\n",
    "In this part you will:\n",
    "\n",
    "-   Collect exchange rate data using an API\n",
    "-   Store the data as a CSV\n"
   ]
  },
  {
   "cell_type": "markdown",
   "id": "12985bdb-93ce-4fe1-a41a-5c527d243422",
   "metadata": {},
   "source": [
    "For this lab, we are going to be using Python and several Python libraries. Some of these libraries might be installed in your lab environment or in SN Labs. Others may need to be installed by you. The cells below will install these libraries when executed.\n"
   ]
  },
  {
   "cell_type": "code",
   "execution_count": null,
   "id": "c5c06d10-3678-4177-a107-462e16434528",
   "metadata": {},
   "outputs": [],
   "source": [
    "#!mamba install pandas==1.3.3 -y\n",
    "#!mamba install requests==2.26.0 -y"
   ]
  },
  {
   "cell_type": "markdown",
   "id": "95cc012a-d646-4e17-9d33-88bf66de1132",
   "metadata": {},
   "source": [
    "## Imports\n",
    "\n",
    "Import any additional libraries you may need here.\n"
   ]
  },
  {
   "cell_type": "code",
   "execution_count": 1,
   "id": "84dcac68-a917-466e-8cb8-cfcedeaeec3a",
   "metadata": {},
   "outputs": [],
   "source": [
    "import requests\n",
    "import pandas as pd"
   ]
  },
  {
   "cell_type": "markdown",
   "id": "c2a2dbee-ba18-4840-885d-d948691fa2d1",
   "metadata": {},
   "source": [
    "## Extract Data Using an API\n"
   ]
  },
  {
   "cell_type": "markdown",
   "id": "bc49f413-a552-4272-877c-d3431ae94579",
   "metadata": {},
   "source": [
    "Using ExchangeRate-API we will extract currency exchange rate data. Use the below steps to get the access key and to get the data. \n",
    "1. Open the url : https://exchangeratesapi.io/ and click on **Get Free API Key**. \n",
    "2. Subscribe for Free plan and Sign-in with the Google Account. \n",
    "3. Once the account is created you will be redirected to https://apilayer.com website.\n",
    "2. Now, click on the **user icon** and click **Account** as shown below:\n",
    "\n",
    "<img src=\"https://cf-courses-data.s3.us.cloud-object-storage.appdomain.cloud/IBMDeveloperSkillsNetwork-PY0221EN-SkillsNetwork/labs/module%206/Final%20Assignment/Images/account.png\">\n",
    "\n",
    "3. Scroll down and you will get the API Key section. Copy the API key and use in the url in Question 1.\n"
   ]
  },
  {
   "cell_type": "markdown",
   "id": "09215f05-ec94-4c17-8c6d-de28acd79a3c",
   "metadata": {},
   "source": [
    "### Call the API\n",
    "\n",
    " <b> Question 1</b> Using the `requests` library call the endpoint given above and save the text, remember the first few characters of the output: \n"
   ]
  },
  {
   "cell_type": "code",
   "execution_count": 2,
   "id": "6287b26d-1a87-403b-a0d0-84f0d8200605",
   "metadata": {},
   "outputs": [],
   "source": [
    "# Write your code here\n",
    "url = \"http://api.exchangeratesapi.io/v1/latest?base=EUR&access_key=99d88ad687bda0d00b8ca2ecaf8a5f1d\"  #Make sure to change ******* to your API key.\n"
   ]
  },
  {
   "cell_type": "code",
   "execution_count": 3,
   "metadata": {},
   "outputs": [
    {
     "data": {
      "text/plain": [
       "<Response [200]>"
      ]
     },
     "execution_count": 3,
     "metadata": {},
     "output_type": "execute_result"
    }
   ],
   "source": [
    "r=requests.get(url)\n",
    "r"
   ]
  },
  {
   "cell_type": "code",
   "execution_count": 4,
   "metadata": {},
   "outputs": [
    {
     "name": "stdout",
     "output_type": "stream",
     "text": [
      "{'User-Agent': 'python-requests/2.25.1', 'Accept-Encoding': 'gzip, deflate', 'Accept': '*/*', 'Connection': 'keep-alive'}\n"
     ]
    }
   ],
   "source": [
    "print(r.request.headers)\n"
   ]
  },
  {
   "cell_type": "code",
   "execution_count": 5,
   "metadata": {},
   "outputs": [
    {
     "name": "stdout",
     "output_type": "stream",
     "text": [
      "request body: None\n"
     ]
    }
   ],
   "source": [
    "print(\"request body:\", r.request.body)\n"
   ]
  },
  {
   "cell_type": "code",
   "execution_count": 9,
   "metadata": {},
   "outputs": [
    {
     "data": {
      "text/plain": [
       "{'success': True,\n",
       " 'timestamp': 1708365843,\n",
       " 'base': 'EUR',\n",
       " 'date': '2024-02-19',\n",
       " 'rates': {'AED': 3.958545,\n",
       "  'AFN': 79.499605,\n",
       "  'ALL': 103.738843,\n",
       "  'AMD': 437.546851,\n",
       "  'ANG': 1.942082,\n",
       "  'AOA': 892.703224,\n",
       "  'ARS': 901.823294,\n",
       "  'AUD': 1.648622,\n",
       "  'AWG': 1.940011,\n",
       "  'AZN': 1.835976,\n",
       "  'BAM': 1.955581,\n",
       "  'BBD': 2.175756,\n",
       "  'BDT': 118.277279,\n",
       "  'BGN': 1.957499,\n",
       "  'BHD': 0.406213,\n",
       "  'BIF': 3077.06905,\n",
       "  'BMD': 1.077784,\n",
       "  'BND': 1.450077,\n",
       "  'BOB': 7.446199,\n",
       "  'BRL': 5.344512,\n",
       "  'BSD': 1.077604,\n",
       "  'BTC': 2.0659704e-05,\n",
       "  'BTN': 89.471962,\n",
       "  'BWP': 14.751413,\n",
       "  'BYN': 3.526457,\n",
       "  'BYR': 21124.567974,\n",
       "  'BZD': 2.172066,\n",
       "  'CAD': 1.454012,\n",
       "  'CDF': 2969.294982,\n",
       "  'CHF': 0.951306,\n",
       "  'CLF': 0.037683,\n",
       "  'CLP': 1039.781535,\n",
       "  'CNY': 7.758648,\n",
       "  'COP': 4221.734132,\n",
       "  'CRC': 554.13783,\n",
       "  'CUC': 1.077784,\n",
       "  'CUP': 28.561278,\n",
       "  'CVE': 110.253142,\n",
       "  'CZK': 25.490564,\n",
       "  'DJF': 191.543714,\n",
       "  'DKK': 7.454321,\n",
       "  'DOP': 63.172912,\n",
       "  'DZD': 145.066489,\n",
       "  'EGP': 33.295445,\n",
       "  'ERN': 16.166761,\n",
       "  'ETB': 61.08123,\n",
       "  'EUR': 1,\n",
       "  'FJD': 2.416661,\n",
       "  'FKP': 0.855463,\n",
       "  'GBP': 0.855912,\n",
       "  'GEL': 2.839936,\n",
       "  'GGP': 0.855463,\n",
       "  'GHS': 13.459552,\n",
       "  'GIP': 0.855463,\n",
       "  'GMD': 73.019405,\n",
       "  'GNF': 9263.00373,\n",
       "  'GTQ': 8.413978,\n",
       "  'GYD': 225.622593,\n",
       "  'HKD': 8.429462,\n",
       "  'HNL': 26.597016,\n",
       "  'HRK': 7.576924,\n",
       "  'HTG': 142.491369,\n",
       "  'HUF': 388.927031,\n",
       "  'IDR': 16849.429641,\n",
       "  'ILS': 3.917584,\n",
       "  'IMP': 0.855463,\n",
       "  'INR': 89.511207,\n",
       "  'IQD': 1411.641624,\n",
       "  'IRR': 45380.098498,\n",
       "  'ISK': 148.702101,\n",
       "  'JEP': 0.855463,\n",
       "  'JMD': 168.839491,\n",
       "  'JOD': 0.764255,\n",
       "  'JPY': 161.865953,\n",
       "  'KES': 156.795707,\n",
       "  'KGS': 96.386045,\n",
       "  'KHR': 4392.527567,\n",
       "  'KMF': 492.008888,\n",
       "  'KPW': 970.005812,\n",
       "  'KRW': 1438.604172,\n",
       "  'KWD': 0.331904,\n",
       "  'KYD': 0.898003,\n",
       "  'KZT': 486.206429,\n",
       "  'LAK': 22472.58299,\n",
       "  'LBP': 16148.263194,\n",
       "  'LKR': 336.875331,\n",
       "  'LRD': 205.319122,\n",
       "  'LSL': 20.348303,\n",
       "  'LTL': 3.182417,\n",
       "  'LVL': 0.651941,\n",
       "  'LYD': 5.216439,\n",
       "  'MAD': 10.86688,\n",
       "  'MDL': 19.267928,\n",
       "  'MGA': 4888.451551,\n",
       "  'MKD': 61.635535,\n",
       "  'MMK': 2262.904127,\n",
       "  'MNT': 3661.529818,\n",
       "  'MOP': 8.681345,\n",
       "  'MRU': 42.669537,\n",
       "  'MUR': 49.168821,\n",
       "  'MVR': 16.603466,\n",
       "  'MWK': 1813.996483,\n",
       "  'MXN': 18.355498,\n",
       "  'MYR': 5.159337,\n",
       "  'MZN': 68.44347,\n",
       "  'NAD': 20.348684,\n",
       "  'NGN': 1650.087281,\n",
       "  'NIO': 39.66555,\n",
       "  'NOK': 11.317088,\n",
       "  'NPR': 143.154939,\n",
       "  'NZD': 1.753792,\n",
       "  'OMR': 0.414833,\n",
       "  'PAB': 1.077584,\n",
       "  'PEN': 4.1156,\n",
       "  'PGK': 4.103463,\n",
       "  'PHP': 60.355372,\n",
       "  'PKR': 298.334729,\n",
       "  'PLN': 4.327876,\n",
       "  'PYG': 7861.04511,\n",
       "  'QAR': 3.924217,\n",
       "  'RON': 4.97753,\n",
       "  'RSD': 117.180966,\n",
       "  'RUB': 99.68962,\n",
       "  'RWF': 1371.720648,\n",
       "  'SAR': 4.042122,\n",
       "  'SBD': 9.088647,\n",
       "  'SCR': 14.424456,\n",
       "  'SDG': 647.747752,\n",
       "  'SEK': 11.219312,\n",
       "  'SGD': 1.450773,\n",
       "  'SHP': 1.357143,\n",
       "  'SLE': 24.271692,\n",
       "  'SLL': 21286.235816,\n",
       "  'SOS': 615.950789,\n",
       "  'SRD': 38.960788,\n",
       "  'STD': 22307.954425,\n",
       "  'SVC': 9.428986,\n",
       "  'SYP': 14013.158949,\n",
       "  'SZL': 20.453326,\n",
       "  'THB': 38.854676,\n",
       "  'TJS': 11.804957,\n",
       "  'TMT': 3.772244,\n",
       "  'TND': 3.382623,\n",
       "  'TOP': 2.580971,\n",
       "  'TRY': 33.276802,\n",
       "  'TTD': 7.31118,\n",
       "  'TWD': 33.84942,\n",
       "  'TZS': 2748.349732,\n",
       "  'UAH': 41.271704,\n",
       "  'UGX': 4178.531199,\n",
       "  'USD': 1.077784,\n",
       "  'UYU': 42.155466,\n",
       "  'UZS': 13303.569152,\n",
       "  'VEF': 3900311.779722,\n",
       "  'VES': 39.046377,\n",
       "  'VND': 26446.126871,\n",
       "  'VUV': 129.20225,\n",
       "  'WST': 2.89105,\n",
       "  'XAF': 655.886457,\n",
       "  'XAG': 0.046892,\n",
       "  'XAU': 0.000534,\n",
       "  'XCD': 2.912765,\n",
       "  'XDR': 0.813375,\n",
       "  'XOF': 655.886457,\n",
       "  'XPF': 119.331742,\n",
       "  'YER': 269.823095,\n",
       "  'ZAR': 20.439637,\n",
       "  'ZMK': 9701.35371,\n",
       "  'ZMW': 24.650349,\n",
       "  'ZWL': 347.046034}}"
      ]
     },
     "execution_count": 9,
     "metadata": {},
     "output_type": "execute_result"
    }
   ],
   "source": [
    "#print(r.content)\n",
    "r.json()\n"
   ]
  },
  {
   "cell_type": "code",
   "execution_count": 13,
   "metadata": {},
   "outputs": [
    {
     "data": {
      "text/plain": [
       "{'AED': 3.958545,\n",
       " 'AFN': 79.499605,\n",
       " 'ALL': 103.738843,\n",
       " 'AMD': 437.546851,\n",
       " 'ANG': 1.942082,\n",
       " 'AOA': 892.703224,\n",
       " 'ARS': 901.823294,\n",
       " 'AUD': 1.648622,\n",
       " 'AWG': 1.940011,\n",
       " 'AZN': 1.835976,\n",
       " 'BAM': 1.955581,\n",
       " 'BBD': 2.175756,\n",
       " 'BDT': 118.277279,\n",
       " 'BGN': 1.957499,\n",
       " 'BHD': 0.406213,\n",
       " 'BIF': 3077.06905,\n",
       " 'BMD': 1.077784,\n",
       " 'BND': 1.450077,\n",
       " 'BOB': 7.446199,\n",
       " 'BRL': 5.344512,\n",
       " 'BSD': 1.077604,\n",
       " 'BTC': 2.0659704e-05,\n",
       " 'BTN': 89.471962,\n",
       " 'BWP': 14.751413,\n",
       " 'BYN': 3.526457,\n",
       " 'BYR': 21124.567974,\n",
       " 'BZD': 2.172066,\n",
       " 'CAD': 1.454012,\n",
       " 'CDF': 2969.294982,\n",
       " 'CHF': 0.951306,\n",
       " 'CLF': 0.037683,\n",
       " 'CLP': 1039.781535,\n",
       " 'CNY': 7.758648,\n",
       " 'COP': 4221.734132,\n",
       " 'CRC': 554.13783,\n",
       " 'CUC': 1.077784,\n",
       " 'CUP': 28.561278,\n",
       " 'CVE': 110.253142,\n",
       " 'CZK': 25.490564,\n",
       " 'DJF': 191.543714,\n",
       " 'DKK': 7.454321,\n",
       " 'DOP': 63.172912,\n",
       " 'DZD': 145.066489,\n",
       " 'EGP': 33.295445,\n",
       " 'ERN': 16.166761,\n",
       " 'ETB': 61.08123,\n",
       " 'EUR': 1,\n",
       " 'FJD': 2.416661,\n",
       " 'FKP': 0.855463,\n",
       " 'GBP': 0.855912,\n",
       " 'GEL': 2.839936,\n",
       " 'GGP': 0.855463,\n",
       " 'GHS': 13.459552,\n",
       " 'GIP': 0.855463,\n",
       " 'GMD': 73.019405,\n",
       " 'GNF': 9263.00373,\n",
       " 'GTQ': 8.413978,\n",
       " 'GYD': 225.622593,\n",
       " 'HKD': 8.429462,\n",
       " 'HNL': 26.597016,\n",
       " 'HRK': 7.576924,\n",
       " 'HTG': 142.491369,\n",
       " 'HUF': 388.927031,\n",
       " 'IDR': 16849.429641,\n",
       " 'ILS': 3.917584,\n",
       " 'IMP': 0.855463,\n",
       " 'INR': 89.511207,\n",
       " 'IQD': 1411.641624,\n",
       " 'IRR': 45380.098498,\n",
       " 'ISK': 148.702101,\n",
       " 'JEP': 0.855463,\n",
       " 'JMD': 168.839491,\n",
       " 'JOD': 0.764255,\n",
       " 'JPY': 161.865953,\n",
       " 'KES': 156.795707,\n",
       " 'KGS': 96.386045,\n",
       " 'KHR': 4392.527567,\n",
       " 'KMF': 492.008888,\n",
       " 'KPW': 970.005812,\n",
       " 'KRW': 1438.604172,\n",
       " 'KWD': 0.331904,\n",
       " 'KYD': 0.898003,\n",
       " 'KZT': 486.206429,\n",
       " 'LAK': 22472.58299,\n",
       " 'LBP': 16148.263194,\n",
       " 'LKR': 336.875331,\n",
       " 'LRD': 205.319122,\n",
       " 'LSL': 20.348303,\n",
       " 'LTL': 3.182417,\n",
       " 'LVL': 0.651941,\n",
       " 'LYD': 5.216439,\n",
       " 'MAD': 10.86688,\n",
       " 'MDL': 19.267928,\n",
       " 'MGA': 4888.451551,\n",
       " 'MKD': 61.635535,\n",
       " 'MMK': 2262.904127,\n",
       " 'MNT': 3661.529818,\n",
       " 'MOP': 8.681345,\n",
       " 'MRU': 42.669537,\n",
       " 'MUR': 49.168821,\n",
       " 'MVR': 16.603466,\n",
       " 'MWK': 1813.996483,\n",
       " 'MXN': 18.355498,\n",
       " 'MYR': 5.159337,\n",
       " 'MZN': 68.44347,\n",
       " 'NAD': 20.348684,\n",
       " 'NGN': 1650.087281,\n",
       " 'NIO': 39.66555,\n",
       " 'NOK': 11.317088,\n",
       " 'NPR': 143.154939,\n",
       " 'NZD': 1.753792,\n",
       " 'OMR': 0.414833,\n",
       " 'PAB': 1.077584,\n",
       " 'PEN': 4.1156,\n",
       " 'PGK': 4.103463,\n",
       " 'PHP': 60.355372,\n",
       " 'PKR': 298.334729,\n",
       " 'PLN': 4.327876,\n",
       " 'PYG': 7861.04511,\n",
       " 'QAR': 3.924217,\n",
       " 'RON': 4.97753,\n",
       " 'RSD': 117.180966,\n",
       " 'RUB': 99.68962,\n",
       " 'RWF': 1371.720648,\n",
       " 'SAR': 4.042122,\n",
       " 'SBD': 9.088647,\n",
       " 'SCR': 14.424456,\n",
       " 'SDG': 647.747752,\n",
       " 'SEK': 11.219312,\n",
       " 'SGD': 1.450773,\n",
       " 'SHP': 1.357143,\n",
       " 'SLE': 24.271692,\n",
       " 'SLL': 21286.235816,\n",
       " 'SOS': 615.950789,\n",
       " 'SRD': 38.960788,\n",
       " 'STD': 22307.954425,\n",
       " 'SVC': 9.428986,\n",
       " 'SYP': 14013.158949,\n",
       " 'SZL': 20.453326,\n",
       " 'THB': 38.854676,\n",
       " 'TJS': 11.804957,\n",
       " 'TMT': 3.772244,\n",
       " 'TND': 3.382623,\n",
       " 'TOP': 2.580971,\n",
       " 'TRY': 33.276802,\n",
       " 'TTD': 7.31118,\n",
       " 'TWD': 33.84942,\n",
       " 'TZS': 2748.349732,\n",
       " 'UAH': 41.271704,\n",
       " 'UGX': 4178.531199,\n",
       " 'USD': 1.077784,\n",
       " 'UYU': 42.155466,\n",
       " 'UZS': 13303.569152,\n",
       " 'VEF': 3900311.779722,\n",
       " 'VES': 39.046377,\n",
       " 'VND': 26446.126871,\n",
       " 'VUV': 129.20225,\n",
       " 'WST': 2.89105,\n",
       " 'XAF': 655.886457,\n",
       " 'XAG': 0.046892,\n",
       " 'XAU': 0.000534,\n",
       " 'XCD': 2.912765,\n",
       " 'XDR': 0.813375,\n",
       " 'XOF': 655.886457,\n",
       " 'XPF': 119.331742,\n",
       " 'YER': 269.823095,\n",
       " 'ZAR': 20.439637,\n",
       " 'ZMK': 9701.35371,\n",
       " 'ZMW': 24.650349,\n",
       " 'ZWL': 347.046034}"
      ]
     },
     "execution_count": 13,
     "metadata": {},
     "output_type": "execute_result"
    }
   ],
   "source": [
    "r.json()['rates']\n",
    "#r.json()['date']"
   ]
  },
  {
   "cell_type": "code",
   "execution_count": 6,
   "metadata": {},
   "outputs": [
    {
     "data": {
      "text/plain": [
       "'{\"success\":true,\"timestamp\":1708365843,\"base\":\"EUR\",\"date\":\"2024-02-19\",\"rates\":{\"AED\":3.958545,\"AFN\":79.499605,\"ALL\":103.738843,\"AMD\":437.546851,\"ANG\":1.942082,\"AOA\":892.703224,\"ARS\":901.823294,\"AUD\":1.648622,\"AWG\":1.940011,\"AZN\":1.835976,\"BAM\":1.955581,\"BBD\":2.175756,\"BDT\":118.277279,\"BGN\":1.957499,\"BHD\":0.406213,\"BIF\":3077.06905,\"BMD\":1.077784,\"BND\":1.450077,\"BOB\":7.446199,\"BRL\":5.344512,\"BSD\":1.077604,\"BTC\":2.0659704e-5,\"BTN\":89.471962,\"BWP\":14.751413,\"BYN\":3.526457,\"BYR\":21124.567974,\"BZD\":2.172066,\"CAD\":1.454012,\"CDF\":2969.294982,\"CHF\":0.951306,\"CLF\":0.037683,\"CLP\":1039.781535,\"CNY\":7.758648,\"COP\":4221.734132,\"CRC\":554.13783,\"CUC\":1.077784,\"CUP\":28.561278,\"CVE\":110.253142,\"CZK\":25.490564,\"DJF\":191.543714,\"DKK\":7.454321,\"DOP\":63.172912,\"DZD\":145.066489,\"EGP\":33.295445,\"ERN\":16.166761,\"ETB\":61.08123,\"EUR\":1,\"FJD\":2.416661,\"FKP\":0.855463,\"GBP\":0.855912,\"GEL\":2.839936,\"GGP\":0.855463,\"GHS\":13.459552,\"GIP\":0.855463,\"GMD\":73.019405,\"GNF\":9263.00373,\"GTQ\":8.413978,\"GYD\":225.622593,\"HKD\":8.429462,\"HNL\":26.597016,\"HRK\":7.576924,\"HTG\":142.491369,\"HUF\":388.927031,\"IDR\":16849.429641,\"ILS\":3.917584,\"IMP\":0.855463,\"INR\":89.511207,\"IQD\":1411.641624,\"IRR\":45380.098498,\"ISK\":148.702101,\"JEP\":0.855463,\"JMD\":168.839491,\"JOD\":0.764255,\"JPY\":161.865953,\"KES\":156.795707,\"KGS\":96.386045,\"KHR\":4392.527567,\"KMF\":492.008888,\"KPW\":970.005812,\"KRW\":1438.604172,\"KWD\":0.331904,\"KYD\":0.898003,\"KZT\":486.206429,\"LAK\":22472.58299,\"LBP\":16148.263194,\"LKR\":336.875331,\"LRD\":205.319122,\"LSL\":20.348303,\"LTL\":3.182417,\"LVL\":0.651941,\"LYD\":5.216439,\"MAD\":10.86688,\"MDL\":19.267928,\"MGA\":4888.451551,\"MKD\":61.635535,\"MMK\":2262.904127,\"MNT\":3661.529818,\"MOP\":8.681345,\"MRU\":42.669537,\"MUR\":49.168821,\"MVR\":16.603466,\"MWK\":1813.996483,\"MXN\":18.355498,\"MYR\":5.159337,\"MZN\":68.44347,\"NAD\":20.348684,\"NGN\":1650.087281,\"NIO\":39.66555,\"NOK\":11.317088,\"NPR\":143.154939,\"NZD\":1.753792,\"OMR\":0.414833,\"PAB\":1.077584,\"PEN\":4.1156,\"PGK\":4.103463,\"PHP\":60.355372,\"PKR\":298.334729,\"PLN\":4.327876,\"PYG\":7861.04511,\"QAR\":3.924217,\"RON\":4.97753,\"RSD\":117.180966,\"RUB\":99.68962,\"RWF\":1371.720648,\"SAR\":4.042122,\"SBD\":9.088647,\"SCR\":14.424456,\"SDG\":647.747752,\"SEK\":11.219312,\"SGD\":1.450773,\"SHP\":1.357143,\"SLE\":24.271692,\"SLL\":21286.235816,\"SOS\":615.950789,\"SRD\":38.960788,\"STD\":22307.954425,\"SVC\":9.428986,\"SYP\":14013.158949,\"SZL\":20.453326,\"THB\":38.854676,\"TJS\":11.804957,\"TMT\":3.772244,\"TND\":3.382623,\"TOP\":2.580971,\"TRY\":33.276802,\"TTD\":7.31118,\"TWD\":33.84942,\"TZS\":2748.349732,\"UAH\":41.271704,\"UGX\":4178.531199,\"USD\":1.077784,\"UYU\":42.155466,\"UZS\":13303.569152,\"VEF\":3900311.779722,\"VES\":39.046377,\"VND\":26446.126871,\"VUV\":129.20225,\"WST\":2.89105,\"XAF\":655.886457,\"XAG\":0.046892,\"XAU\":0.000534,\"XCD\":2.912765,\"XDR\":0.813375,\"XOF\":655.886457,\"XPF\":119.331742,\"YER\":269.823095,\"ZAR\":20.439637,\"ZMK\":9701.35371,\"ZMW\":24.650349,\"ZWL\":347.046034}}'"
      ]
     },
     "execution_count": 6,
     "metadata": {},
     "output_type": "execute_result"
    }
   ],
   "source": [
    "r.text"
   ]
  },
  {
   "cell_type": "code",
   "execution_count": 14,
   "metadata": {},
   "outputs": [
    {
     "data": {
      "text/plain": [
       "requests.models.Response"
      ]
     },
     "execution_count": 14,
     "metadata": {},
     "output_type": "execute_result"
    }
   ],
   "source": [
    "type(r)"
   ]
  },
  {
   "cell_type": "markdown",
   "id": "306bb01e-0ab0-434f-bbb8-e83259dde60c",
   "metadata": {},
   "source": [
    "### Save as DataFrame\n",
    "\n",
    " <b> Question 2</b>  Using the data gathered turn it into a `pandas` dataframe. The dataframe should have the Currency as the index and `Rate` as their columns. Make sure to drop unnecessary columns.\n"
   ]
  },
  {
   "cell_type": "code",
   "execution_count": 18,
   "id": "536f5c14-dfbb-4ea0-98c1-2109248ed784",
   "metadata": {},
   "outputs": [
    {
     "data": {
      "text/plain": [
       "Index(['AED', 'AFN', 'ALL', 'AMD', 'ANG', 'AOA', 'ARS', 'AUD', 'AWG', 'AZN',\n",
       "       ...\n",
       "       'XAU', 'XCD', 'XDR', 'XOF', 'XPF', 'YER', 'ZAR', 'ZMK', 'ZMW', 'ZWL'],\n",
       "      dtype='object', length=170)"
      ]
     },
     "execution_count": 18,
     "metadata": {},
     "output_type": "execute_result"
    }
   ],
   "source": [
    "# Turn the data into a dataframe\n",
    "df = pd.DataFrame.from_dict(r.json())\n",
    "#df[['rates']]\n",
    "#df.index"
   ]
  },
  {
   "cell_type": "code",
   "execution_count": 19,
   "id": "bb732703-bad3-4681-8ccc-69e2936d32f3",
   "metadata": {},
   "outputs": [
    {
     "data": {
      "text/html": [
       "<div>\n",
       "<style scoped>\n",
       "    .dataframe tbody tr th:only-of-type {\n",
       "        vertical-align: middle;\n",
       "    }\n",
       "\n",
       "    .dataframe tbody tr th {\n",
       "        vertical-align: top;\n",
       "    }\n",
       "\n",
       "    .dataframe thead th {\n",
       "        text-align: right;\n",
       "    }\n",
       "</style>\n",
       "<table border=\"1\" class=\"dataframe\">\n",
       "  <thead>\n",
       "    <tr style=\"text-align: right;\">\n",
       "      <th></th>\n",
       "      <th>rates</th>\n",
       "    </tr>\n",
       "  </thead>\n",
       "  <tbody>\n",
       "    <tr>\n",
       "      <th>AED</th>\n",
       "      <td>3.958545</td>\n",
       "    </tr>\n",
       "    <tr>\n",
       "      <th>AFN</th>\n",
       "      <td>79.499605</td>\n",
       "    </tr>\n",
       "    <tr>\n",
       "      <th>ALL</th>\n",
       "      <td>103.738843</td>\n",
       "    </tr>\n",
       "    <tr>\n",
       "      <th>AMD</th>\n",
       "      <td>437.546851</td>\n",
       "    </tr>\n",
       "    <tr>\n",
       "      <th>ANG</th>\n",
       "      <td>1.942082</td>\n",
       "    </tr>\n",
       "    <tr>\n",
       "      <th>...</th>\n",
       "      <td>...</td>\n",
       "    </tr>\n",
       "    <tr>\n",
       "      <th>YER</th>\n",
       "      <td>269.823095</td>\n",
       "    </tr>\n",
       "    <tr>\n",
       "      <th>ZAR</th>\n",
       "      <td>20.439637</td>\n",
       "    </tr>\n",
       "    <tr>\n",
       "      <th>ZMK</th>\n",
       "      <td>9701.353710</td>\n",
       "    </tr>\n",
       "    <tr>\n",
       "      <th>ZMW</th>\n",
       "      <td>24.650349</td>\n",
       "    </tr>\n",
       "    <tr>\n",
       "      <th>ZWL</th>\n",
       "      <td>347.046034</td>\n",
       "    </tr>\n",
       "  </tbody>\n",
       "</table>\n",
       "<p>170 rows × 1 columns</p>\n",
       "</div>"
      ],
      "text/plain": [
       "           rates\n",
       "AED     3.958545\n",
       "AFN    79.499605\n",
       "ALL   103.738843\n",
       "AMD   437.546851\n",
       "ANG     1.942082\n",
       "..           ...\n",
       "YER   269.823095\n",
       "ZAR    20.439637\n",
       "ZMK  9701.353710\n",
       "ZMW    24.650349\n",
       "ZWL   347.046034\n",
       "\n",
       "[170 rows x 1 columns]"
      ]
     },
     "execution_count": 19,
     "metadata": {},
     "output_type": "execute_result"
    }
   ],
   "source": [
    "# Drop unnescessary columns\n",
    "rates=df[['rates']]\n",
    "rates"
   ]
  },
  {
   "cell_type": "markdown",
   "id": "dc1b592e-408b-4dcb-921c-be809646bec6",
   "metadata": {},
   "source": [
    "### Load the Data\n",
    "\n",
    "Using the dataframe save it as a CSV names `exchange_rates_1.csv`.\n"
   ]
  },
  {
   "cell_type": "code",
   "execution_count": 20,
   "id": "0c2a2f34-1697-4740-939c-b771b664dd2b",
   "metadata": {},
   "outputs": [],
   "source": [
    "# Save the Dataframe\n",
    "rates.to_csv('exchange_rates_1.csv')"
   ]
  },
  {
   "cell_type": "markdown",
   "id": "f35b63cb-6c94-4163-9c5a-9d07c34ad6df",
   "metadata": {},
   "source": [
    "Your CSV should be in this format with more currencies\n",
    "\n",
    "| | Rates |\n",
    "| ------- | ------- |\n",
    "|  AED| 4.398618    |\n",
    "|  AFN| 92.917693   |  \n",
    "|  ALL| 123.099093  |\n",
    "|  AMD| 621.935674  |\n",
    "|  ANG| 2.149648    | \n"
   ]
  },
  {
   "cell_type": "markdown",
   "id": "01755bda-3044-4f3c-8b5e-970498930c2d",
   "metadata": {},
   "source": [
    "## Authors\n"
   ]
  },
  {
   "cell_type": "markdown",
   "id": "a7ebcb75-e4cf-4e17-92ee-35a73b4c5661",
   "metadata": {},
   "source": [
    "Ramesh Sannareddy, Joseph Santarcangelo and Azim Hirjani\n"
   ]
  },
  {
   "cell_type": "markdown",
   "id": "59d33479-ecc7-4a7a-b196-9356acc19ce9",
   "metadata": {},
   "source": [
    "### Other Contributors\n"
   ]
  },
  {
   "cell_type": "markdown",
   "id": "53ed2b55-fe5b-4097-ad01-c144ab7bd983",
   "metadata": {},
   "source": [
    "Rav Ahuja\n"
   ]
  },
  {
   "cell_type": "markdown",
   "id": "c3d59879-ebc6-4723-b3d9-312592af1bad",
   "metadata": {},
   "source": [
    "## Change Log\n"
   ]
  },
  {
   "cell_type": "markdown",
   "id": "2601aa62-e7c4-49d2-a338-ee06ba847ae6",
   "metadata": {},
   "source": [
    "| Date (YYYY-MM-DD) | Version | Changed By        | Change Description                 |\n",
    "| ----------------- | ------- | ----------------- | ---------------------------------- |\n",
    "| 2022-05-06        | 0.3     | Malika            | Updated instructions to get the API and the url|\n",
    "| 2021-04-15        | 0.2     | Malika            | Updated the lab from USD to EUR    |\n",
    "| 2020-11-25        | 0.1     | Ramesh Sannareddy | Created initial version of the lab |\n"
   ]
  },
  {
   "cell_type": "markdown",
   "id": "3f42ce3f-bad1-43a3-a466-743eba00103a",
   "metadata": {},
   "source": [
    " Copyright © 2020 IBM Corporation. This notebook and its source code are released under the terms of the [MIT License](https://cognitiveclass.ai/mit-license?utm_medium=Exinfluencer&utm_source=Exinfluencer&utm_content=000026UJ&utm_term=10006555&utm_id=NA-SkillsNetwork-Channel-SkillsNetworkCoursesIBMDeveloperSkillsNetworkPY0221ENSkillsNetwork899-2023-01-01&cm_mmc=Email_Newsletter-_-Developer_Ed%2BTech-_-WW_WW-_-SkillsNetwork-Courses-IBM-DA0321EN-SkillsNetwork-21426264&cm_mmca1=000026UJ&cm_mmca2=10006555&cm_mmca3=M12345678&cvosrc=email.Newsletter.M12345678&cvo_campaign=000026UJ).\n"
   ]
  }
 ],
 "metadata": {
  "kernelspec": {
   "display_name": "Python 3 (ipykernel)",
   "language": "python",
   "name": "python3"
  },
  "language_info": {
   "codemirror_mode": {
    "name": "ipython",
    "version": 3
   },
   "file_extension": ".py",
   "mimetype": "text/x-python",
   "name": "python",
   "nbconvert_exporter": "python",
   "pygments_lexer": "ipython3",
   "version": "3.10.12"
  }
 },
 "nbformat": 4,
 "nbformat_minor": 4
}

{
 "cells": [
  {
   "cell_type": "markdown",
   "id": "033bbcba-68fa-46bf-b554-3c73db6b5c78",
   "metadata": {},
   "source": [
    "<p style=\"text-align:center\">\n",
    "    <a href=\"https://skills.network\" target=\"_blank\">\n",
    "    <img src=\"https://cf-courses-data.s3.us.cloud-object-storage.appdomain.cloud/assets/logos/SN_web_lightmode.png\" width=\"200\" alt=\"Skills Network Logo\">\n",
    "    </a>\n",
    "</p>\n"
   ]
  },
  {
   "cell_type": "markdown",
   "id": "a1542bec-008c-43df-ae02-422d246bbacb",
   "metadata": {},
   "source": [
    "## Metrics for Regression\n"
   ]
  },
  {
   "cell_type": "markdown",
   "id": "aca4b2f5-56a3-40a1-a3a9-9123a30c4f6f",
   "metadata": {},
   "source": [
    "Estimated time needed: **30** minutes\n"
   ]
  },
  {
   "cell_type": "markdown",
   "id": "0ef0307d-ef61-45a6-b92d-55bf0b68fcbb",
   "metadata": {},
   "source": [
    "<p style='color: red'>The purpose of this lab is to show you how to evaluate a regression model using various metrics.</p>\n"
   ]
  },
  {
   "cell_type": "markdown",
   "id": "70482d86-fb88-4173-a62c-f1470a7bca6a",
   "metadata": {},
   "source": [
    "## __Table of Contents__\n",
    "\n",
    "<ol>\n",
    "    <li><a href=\"#Objectives\">Objectives</a></li>\n",
    "    <li><a href=\"#Datasets\">Datasets</a></li>\n",
    "    <li>\n",
    "        <a href=\"#Setup\">Setup</a>\n",
    "        <ol>\n",
    "            <li><a href=\"#Installing-Required-Libraries\">Installing Required Libraries</a></li>\n",
    "            <li><a href=\"#Importing-Required-Libraries\">Importing Required Libraries</a></li>\n",
    "        </ol>\n",
    "    </li>\n",
    "    <li>\n",
    "        <a href=\"#Examples\">Examples</a>\n",
    "        <ol>\n",
    "            <li><a href=\"#Task-1---Load-the-data-in-a-csv-file-into-a-dataframe\">Task 1 - Load the data in a csv file into a dataframe</a></li>\n",
    "    <li><a href=\"#Task-2---Identify-the-target-column-and-the-data-columns\">Task 2 - Identify the target column and the data columns</a></li>\n",
    "<li><a href=\"#Task-3---Split-the-data-set\">Task 3 - Split the data set</a></li>\n",
    "    <li><a href=\"#Task-4---Build-and-Train-a-Linear-Regression-Model\">Task 4 - Build and Train a Linear Regression Model</a></li>\n",
    "        <li><a href=\"#Task-5---Evaluate-the-model\">Task 5 - Evaluate the model</a></li>    \n",
    "        </ol>\n",
    "    </li>\n",
    "    \n",
    "\n",
    "\n",
    "<li><a href=\"#Exercises\">Exercises</a></li>\n",
    "<ol>\n",
    "    <li><a href=\"#Exercise-1---Loading-a-dataset-(diamond-dataset)\">Exercise 1 - Loading a dataset (diamond dataset)</a></li>\n",
    "    <li><a href=\"#Exercise-2---Identify-the-target-column-and-the-data-columns\">Exercise 2 - Identify the target column and the data columns</a></li>\n",
    "    <li><a href=\"#Exercise-3---Split-the-data\">Exercise 3 - Split the data</a></li>\n",
    "    <li><a href=\"#Exercise-4---Predict-values\">Exercise 4 - Predict values</a></li>\n",
    "    <li><a href=\"#Exercise-5---Evaluate-the-model\">Exercise 5 - Evaluate the model</a></li>\n",
    "    </ol>\n",
    "</ol>\n",
    "\n",
    "\n"
   ]
  },
  {
   "cell_type": "markdown",
   "id": "791c852c-2ac8-45e0-b9d4-18947e8dc9fc",
   "metadata": {},
   "source": [
    "## Objectives\n",
    "\n",
    "After completing this lab you will be able to:\n",
    "\n",
    " - Use Pandas to load data sets.\n",
    " - Identify the target and features.\n",
    " - Split the dataset into training and testing sets.\n",
    " - Use Linear Regression to build a prediction model.\n",
    " - Use metrics to evaluate the model.\n"
   ]
  },
  {
   "cell_type": "markdown",
   "id": "b735ce9b-7da2-4fcc-98fd-883c716cf4e0",
   "metadata": {},
   "source": [
    "## Datasets\n",
    "\n",
    "In this lab you will be using dataset(s):\n",
    "\n",
    " - Modified version of car mileage dataset. Original dataset available at https://archive.ics.uci.edu/ml/datasets/auto+mpg \n",
    " - Modified version of diamonds dataset. Original dataset available at https://www.openml.org/search?type=data&sort=runs&id=42225&status=active\n",
    " \n"
   ]
  },
  {
   "cell_type": "markdown",
   "id": "da0cf025-4494-495f-a110-ef0bb6fcb546",
   "metadata": {},
   "source": [
    "----\n"
   ]
  },
  {
   "cell_type": "markdown",
   "id": "0c5df172-29e3-4830-ae9c-165daf2906f9",
   "metadata": {},
   "source": [
    "## Setup\n"
   ]
  },
  {
   "cell_type": "markdown",
   "id": "4d1eb631-2762-40b5-bd61-53e0c1bb4879",
   "metadata": {},
   "source": [
    "For this lab, we will be using the following libraries:\n",
    "\n",
    "*   [`pandas`](https://pandas.pydata.org/?utm_medium=Exinfluencer&utm_source=Exinfluencer&utm_content=000026UJ&utm_term=10006555&utm_id=NA-SkillsNetwork-Channel-SkillsNetworkCoursesIBMML0187ENSkillsNetwork31430127-2021-01-01) for managing the data.\n",
    "*   [`sklearn`](https://scikit-learn.org/stable/?utm_medium=Exinfluencer&utm_source=Exinfluencer&utm_content=000026UJ&utm_term=10006555&utm_id=NA-SkillsNetwork-Channel-SkillsNetworkCoursesIBMML0187ENSkillsNetwork31430127-2021-01-01) for machine learning and machine-learning-pipeline related functions.\n"
   ]
  },
  {
   "cell_type": "markdown",
   "id": "a062247f-3c96-4cd0-8477-f174683b186e",
   "metadata": {},
   "source": [
    "### Installing Required Libraries\n",
    "\n",
    "The following required libraries are pre-installed in the Skills Network Labs environment. However, if you run this notebook commands in a different Jupyter environment (e.g. Watson Studio or Ananconda), you will need to install these libraries by removing the `#` sign before `!pip` in the code cell below.\n"
   ]
  },
  {
   "cell_type": "code",
   "execution_count": null,
   "id": "4bc3b510-b9b7-49aa-8e9e-f1d422d76e1e",
   "metadata": {},
   "outputs": [],
   "source": [
    "# All Libraries required for this lab are listed below. The libraries pre-installed on Skills Network Labs are commented.\n",
    "# !pip install pandas==1.3.4\n",
    "# !pip install scikit-learn==0.20.1\n",
    "# !pip install numpy==1.21.6"
   ]
  },
  {
   "cell_type": "code",
   "execution_count": 1,
   "id": "4e23dad6-2996-4f05-ad92-7f82015ca11a",
   "metadata": {},
   "outputs": [],
   "source": [
    "# You can use this section to suppress warnings generated by your code:\n",
    "def warn(*args, **kwargs):\n",
    "    pass\n",
    "import warnings\n",
    "warnings.warn = warn\n",
    "warnings.filterwarnings('ignore')\n"
   ]
  },
  {
   "cell_type": "markdown",
   "id": "edacac4a-9cca-4635-8130-2e284277ec81",
   "metadata": {},
   "source": [
    "### Importing Required Libraries\n",
    "\n",
    "_We recommend you import all required libraries in one place (here):_\n"
   ]
  },
  {
   "cell_type": "code",
   "execution_count": 2,
   "id": "83f2e56e-7973-4628-aba2-e5c030f91a11",
   "metadata": {},
   "outputs": [],
   "source": [
    "import pandas as pd\n",
    "from sklearn.linear_model import LinearRegression\n",
    "\n",
    "#import functions for train test split\n",
    "\n",
    "from sklearn.model_selection import train_test_split\n",
    "\n",
    "# import functions for metrics\n",
    "from sklearn.metrics import r2_score\n",
    "from sklearn.metrics import mean_absolute_error\n",
    "from sklearn.metrics import mean_squared_error\n",
    "from math import sqrt"
   ]
  },
  {
   "cell_type": "markdown",
   "id": "f4e56f24-8237-42f7-8171-717e016f34e1",
   "metadata": {},
   "source": [
    "## Task 1 - Load the data in a csv file into a dataframe\n"
   ]
  },
  {
   "cell_type": "code",
   "execution_count": 3,
   "id": "1921254e-9ee3-48c7-bbd2-03a09d33213f",
   "metadata": {},
   "outputs": [],
   "source": [
    "# the data set is available at the url below.\n",
    "URL = \"https://cf-courses-data.s3.us.cloud-object-storage.appdomain.cloud/IBM-BD0231EN-SkillsNetwork/datasets/mpg.csv\"\n",
    "\n",
    "# using the read_csv function in the pandas library, we load the data into a dataframe.\n",
    "\n",
    "df = pd.read_csv(URL)\n"
   ]
  },
  {
   "cell_type": "markdown",
   "id": "a71afadd-9684-41cf-b4db-e8568e2b245a",
   "metadata": {},
   "source": [
    "Let's look at some sample rows from the dataset we loaded:\n"
   ]
  },
  {
   "cell_type": "code",
   "execution_count": 4,
   "id": "727c83d5-9577-4bc3-b6f7-f9d06d7f3d5e",
   "metadata": {},
   "outputs": [
    {
     "data": {
      "text/html": [
       "<div>\n",
       "<style scoped>\n",
       "    .dataframe tbody tr th:only-of-type {\n",
       "        vertical-align: middle;\n",
       "    }\n",
       "\n",
       "    .dataframe tbody tr th {\n",
       "        vertical-align: top;\n",
       "    }\n",
       "\n",
       "    .dataframe thead th {\n",
       "        text-align: right;\n",
       "    }\n",
       "</style>\n",
       "<table border=\"1\" class=\"dataframe\">\n",
       "  <thead>\n",
       "    <tr style=\"text-align: right;\">\n",
       "      <th></th>\n",
       "      <th>MPG</th>\n",
       "      <th>Cylinders</th>\n",
       "      <th>Engine Disp</th>\n",
       "      <th>Horsepower</th>\n",
       "      <th>Weight</th>\n",
       "      <th>Accelerate</th>\n",
       "      <th>Year</th>\n",
       "      <th>Origin</th>\n",
       "    </tr>\n",
       "  </thead>\n",
       "  <tbody>\n",
       "    <tr>\n",
       "      <th>373</th>\n",
       "      <td>22.0</td>\n",
       "      <td>6</td>\n",
       "      <td>232.0</td>\n",
       "      <td>112</td>\n",
       "      <td>2835</td>\n",
       "      <td>14.7</td>\n",
       "      <td>82</td>\n",
       "      <td>American</td>\n",
       "    </tr>\n",
       "    <tr>\n",
       "      <th>344</th>\n",
       "      <td>34.7</td>\n",
       "      <td>4</td>\n",
       "      <td>105.0</td>\n",
       "      <td>63</td>\n",
       "      <td>2215</td>\n",
       "      <td>14.9</td>\n",
       "      <td>81</td>\n",
       "      <td>American</td>\n",
       "    </tr>\n",
       "    <tr>\n",
       "      <th>15</th>\n",
       "      <td>17.0</td>\n",
       "      <td>8</td>\n",
       "      <td>302.0</td>\n",
       "      <td>140</td>\n",
       "      <td>3449</td>\n",
       "      <td>10.5</td>\n",
       "      <td>70</td>\n",
       "      <td>American</td>\n",
       "    </tr>\n",
       "    <tr>\n",
       "      <th>42</th>\n",
       "      <td>26.0</td>\n",
       "      <td>4</td>\n",
       "      <td>91.0</td>\n",
       "      <td>70</td>\n",
       "      <td>1955</td>\n",
       "      <td>20.5</td>\n",
       "      <td>71</td>\n",
       "      <td>American</td>\n",
       "    </tr>\n",
       "    <tr>\n",
       "      <th>164</th>\n",
       "      <td>15.0</td>\n",
       "      <td>6</td>\n",
       "      <td>250.0</td>\n",
       "      <td>72</td>\n",
       "      <td>3432</td>\n",
       "      <td>21.0</td>\n",
       "      <td>75</td>\n",
       "      <td>American</td>\n",
       "    </tr>\n",
       "  </tbody>\n",
       "</table>\n",
       "</div>"
      ],
      "text/plain": [
       "      MPG  Cylinders  Engine Disp  Horsepower  Weight  Accelerate  Year  \\\n",
       "373  22.0          6        232.0         112    2835        14.7    82   \n",
       "344  34.7          4        105.0          63    2215        14.9    81   \n",
       "15   17.0          8        302.0         140    3449        10.5    70   \n",
       "42   26.0          4         91.0          70    1955        20.5    71   \n",
       "164  15.0          6        250.0          72    3432        21.0    75   \n",
       "\n",
       "       Origin  \n",
       "373  American  \n",
       "344  American  \n",
       "15   American  \n",
       "42   American  \n",
       "164  American  "
      ]
     },
     "execution_count": 4,
     "metadata": {},
     "output_type": "execute_result"
    }
   ],
   "source": [
    "# show 5 random rows from the dataset\n",
    "df.sample(5)"
   ]
  },
  {
   "cell_type": "markdown",
   "id": "2fc0c60f-b41f-48bb-a467-08908155a704",
   "metadata": {},
   "source": [
    "Let's find out the number of rows and columns in the dataset:\n"
   ]
  },
  {
   "cell_type": "code",
   "execution_count": 5,
   "id": "6134587d-4f4a-4012-9157-67147e807d00",
   "metadata": {},
   "outputs": [
    {
     "data": {
      "text/plain": [
       "(392, 8)"
      ]
     },
     "execution_count": 5,
     "metadata": {},
     "output_type": "execute_result"
    }
   ],
   "source": [
    "df.shape"
   ]
  },
  {
   "cell_type": "markdown",
   "id": "605c378c-83a5-4666-8050-03ec5458f094",
   "metadata": {},
   "source": [
    "Let's create a scatter plot of Weight versus mileage(MPG) . This will help us visualize the relationship between them.\n"
   ]
  },
  {
   "cell_type": "code",
   "execution_count": 6,
   "id": "18957929-7409-4e21-ac40-007a47177f95",
   "metadata": {},
   "outputs": [
    {
     "data": {
      "text/plain": [
       "<AxesSubplot:xlabel='Weight', ylabel='MPG'>"
      ]
     },
     "execution_count": 6,
     "metadata": {},
     "output_type": "execute_result"
    },
    {
     "data": {
      "image/png": "[encoded data removed]",
      "text/plain": [
       "<Figure size 432x288 with 1 Axes>"
      ]
     },
     "metadata": {
      "needs_background": "light"
     },
     "output_type": "display_data"
    }
   ],
   "source": [
    "df.plot.scatter(x = \"Weight\", y = \"MPG\")"
   ]
  },
  {
   "cell_type": "markdown",
   "id": "a827a1e2-9839-4fd4-9181-ef432d9961c1",
   "metadata": {},
   "source": [
    "You are encouraged to create more plots to visualize relationships amongst other columns\n"
   ]
  },
  {
   "cell_type": "markdown",
   "id": "9273958e-27f4-461d-8a35-aea4611ab3d2",
   "metadata": {},
   "source": [
    "## Task 2 - Identify the target column and the data columns\n"
   ]
  },
  {
   "cell_type": "markdown",
   "id": "dc3b9f33-7863-4b60-9c80-a4ba048908c1",
   "metadata": {},
   "source": [
    "First we identify the target. Target is the value that our machine learning model needs to predict\n"
   ]
  },
  {
   "cell_type": "code",
   "execution_count": 7,
   "id": "229327c3-dbcf-4942-b58e-9df4f6a89614",
   "metadata": {},
   "outputs": [],
   "source": [
    "y = df[\"MPG\"] # y is the target"
   ]
  },
  {
   "cell_type": "markdown",
   "id": "db522b92-99da-4633-9142-c2087d8aa1d0",
   "metadata": {},
   "source": [
    "We identify the features next. Features are the values our machine learning model learns from\n"
   ]
  },
  {
   "cell_type": "code",
   "execution_count": 8,
   "id": "ed56394f-af02-4ea1-93dd-e7580359b214",
   "metadata": {},
   "outputs": [],
   "source": [
    "X = df[[\"Horsepower\",\"Weight\"]] # X is the set of features"
   ]
  },
  {
   "cell_type": "markdown",
   "id": "6b422517-0f71-471d-b7e5-9dd8314140b2",
   "metadata": {},
   "source": [
    "## Task 3 - Split the data set\n"
   ]
  },
  {
   "cell_type": "markdown",
   "id": "3496ffb3-2245-4e3e-b4dd-1e5de11e7c25",
   "metadata": {},
   "source": [
    "We split the data set in the ratio of 70:30. 70% training data, 30% testing data.\n"
   ]
  },
  {
   "cell_type": "code",
   "execution_count": 9,
   "id": "d8edd1ad-7322-4126-89f0-6e797d92243f",
   "metadata": {},
   "outputs": [],
   "source": [
    "X_train, X_test, y_train, y_test = train_test_split(X, y, test_size=0.30, random_state=42)"
   ]
  },
  {
   "cell_type": "markdown",
   "id": "4728f022-898b-4b3e-8bd7-83fe1195bb45",
   "metadata": {},
   "source": [
    "The random_state variable controls the shuffling applied to the data before applying the split. Pass the same integer for reproducible output across multiple function calls\n"
   ]
  },
  {
   "cell_type": "markdown",
   "id": "3a995ae4-e658-4bed-b123-19a8efc4aa6c",
   "metadata": {},
   "source": [
    "## Task 4 - Build and Train a Linear Regression Model\n"
   ]
  },
  {
   "cell_type": "markdown",
   "id": "f38f676a-f228-43e9-ac2d-a8aaae88e0a8",
   "metadata": {},
   "source": [
    "Create a LR model\n"
   ]
  },
  {
   "cell_type": "code",
   "execution_count": 10,
   "id": "0b9f6533-2f4f-4275-a0ef-be5a17138a73",
   "metadata": {},
   "outputs": [],
   "source": [
    "lr = LinearRegression()"
   ]
  },
  {
   "cell_type": "markdown",
   "id": "d4fad700-e710-45b6-b8c5-8b2f03854386",
   "metadata": {},
   "source": [
    "Train/Fit the model using the training data set\n"
   ]
  },
  {
   "cell_type": "code",
   "execution_count": 11,
   "id": "1134070e-61ca-491f-aa2b-72b92bb28fca",
   "metadata": {},
   "outputs": [
    {
     "data": {
      "text/plain": [
       "LinearRegression()"
      ]
     },
     "execution_count": 11,
     "metadata": {},
     "output_type": "execute_result"
    }
   ],
   "source": [
    "lr.fit(X_train,y_train)"
   ]
  },
  {
   "cell_type": "markdown",
   "id": "4a6ba417-f4e3-4f42-b244-74f80e92d6dd",
   "metadata": {},
   "source": [
    "## Task 5 - Evaluate the model\n"
   ]
  },
  {
   "cell_type": "markdown",
   "id": "551124f3-ea04-48c7-a2c8-0a06f0c40b9f",
   "metadata": {},
   "source": [
    "Your model is now trained. We use the testing data to evaluate the model.\n"
   ]
  },
  {
   "cell_type": "code",
   "execution_count": 12,
   "id": "64c5d5e9-4c3b-419c-a848-71f02f838b08",
   "metadata": {},
   "outputs": [
    {
     "data": {
      "text/plain": [
       "0.7691968626070728"
      ]
     },
     "execution_count": 12,
     "metadata": {},
     "output_type": "execute_result"
    }
   ],
   "source": [
    "lr.score(X_test, y_test)"
   ]
  },
  {
   "cell_type": "markdown",
   "id": "a4a22dfc-a209-47ca-a8b9-86e9740bb8f5",
   "metadata": {},
   "source": [
    "To compute the detailed metrics we need two values, the original mileage and the predicted mileage.\n"
   ]
  },
  {
   "cell_type": "code",
   "execution_count": 13,
   "id": "9b85aec6-3761-446b-86aa-929ed77c1785",
   "metadata": {},
   "outputs": [],
   "source": [
    "original_values = y_test\n",
    "predicted_values = lr.predict(X_test)"
   ]
  },
  {
   "cell_type": "markdown",
   "id": "ff9c40a2-766d-4777-9f19-bc851eb9a8f4",
   "metadata": {},
   "source": [
    "##### R Squared\n"
   ]
  },
  {
   "cell_type": "code",
   "execution_count": 14,
   "id": "e028796a-d4ec-4082-b6c5-1f10c85f380d",
   "metadata": {},
   "outputs": [
    {
     "data": {
      "text/plain": [
       "0.7691968626070728"
      ]
     },
     "execution_count": 14,
     "metadata": {},
     "output_type": "execute_result"
    }
   ],
   "source": [
    "r2_score(original_values, predicted_values) # Higher the value the better the model"
   ]
  },
  {
   "cell_type": "markdown",
   "id": "8e864bbb-8816-4cbb-a7f4-b6f0986665c3",
   "metadata": {},
   "source": [
    "##### Mean Squared Error\n"
   ]
  },
  {
   "cell_type": "code",
   "execution_count": 15,
   "id": "a776475b-e481-44cf-9bf3-95cbd0ac3225",
   "metadata": {},
   "outputs": [
    {
     "data": {
      "text/plain": [
       "12.21274893832399"
      ]
     },
     "execution_count": 15,
     "metadata": {},
     "output_type": "execute_result"
    }
   ],
   "source": [
    "mean_squared_error(original_values, predicted_values) # Lower the value the better the model"
   ]
  },
  {
   "cell_type": "markdown",
   "id": "62dbcfd2-2708-48d0-bf00-a8487bf9d6d6",
   "metadata": {},
   "source": [
    "##### Root Mean Squared Error\n"
   ]
  },
  {
   "cell_type": "code",
   "execution_count": 16,
   "id": "cf3b5eb9-6fd0-42e4-baaf-3ad8bb7b9ccd",
   "metadata": {},
   "outputs": [
    {
     "data": {
      "text/plain": [
       "3.4946743679953918"
      ]
     },
     "execution_count": 16,
     "metadata": {},
     "output_type": "execute_result"
    }
   ],
   "source": [
    "sqrt(mean_squared_error(original_values, predicted_values)) # Lower the value the better the model"
   ]
  },
  {
   "cell_type": "markdown",
   "id": "4d4dd9c5-0cbc-4e32-b680-14c0fc8adbb4",
   "metadata": {},
   "source": [
    "##### Mean Absolute Error\n"
   ]
  },
  {
   "cell_type": "code",
   "execution_count": 17,
   "id": "ce2f1f9d-2f58-4156-ad71-2dad52802347",
   "metadata": {},
   "outputs": [
    {
     "data": {
      "text/plain": [
       "2.8530678815092534"
      ]
     },
     "execution_count": 17,
     "metadata": {},
     "output_type": "execute_result"
    }
   ],
   "source": [
    "mean_absolute_error(original_values, predicted_values) # Lower the value the better the model"
   ]
  },
  {
   "cell_type": "markdown",
   "id": "ce7049f0-b83c-46ad-b1fe-e457446db593",
   "metadata": {},
   "source": [
    "# Exercises\n"
   ]
  },
  {
   "cell_type": "code",
   "execution_count": 18,
   "id": "17cf3964-9200-4077-aa2a-63f532320cd0",
   "metadata": {},
   "outputs": [],
   "source": [
    "URL2 = \"https://cf-courses-data.s3.us.cloud-object-storage.appdomain.cloud/IBM-BD0231EN-SkillsNetwork/datasets/diamonds.csv\""
   ]
  },
  {
   "cell_type": "markdown",
   "id": "b1b9f7fb-6b99-47d4-a412-94ae552cc006",
   "metadata": {},
   "source": [
    "### Exercise 1 - Loading a dataset (diamond dataset)\n"
   ]
  },
  {
   "cell_type": "code",
   "execution_count": 19,
   "id": "cf2c530a-d368-472e-89fd-48ec04a7055e",
   "metadata": {},
   "outputs": [],
   "source": [
    "df2 = pd.read_csv(URL2)"
   ]
  },
  {
   "cell_type": "markdown",
   "id": "76e7fa6b-f985-45ac-8656-98e6c5319d6d",
   "metadata": {},
   "source": [
    "<details>\n",
    "    <summary>Click here for a Hint</summary>\n",
    "    \n",
    "Use the read_csv function\n",
    "\n",
    "</details>\n"
   ]
  },
  {
   "cell_type": "markdown",
   "id": "d3ba712e-11d1-4880-a74f-159a924b8f15",
   "metadata": {},
   "source": [
    "<details>\n",
    "    <summary>Click here for Solution</summary>\n",
    "\n",
    "```python\n",
    "df2 = pd.read_csv(URL2)\n",
    "```\n",
    "\n",
    "</details>\n"
   ]
  },
  {
   "cell_type": "markdown",
   "id": "972d9e12-f8eb-47d7-9abc-56d390503f38",
   "metadata": {},
   "source": [
    "### Exercise 2 - Identify the target column and the data columns\n"
   ]
  },
  {
   "cell_type": "markdown",
   "id": "df9d7e44-92c4-4da4-93e2-6fc3fc8d28d8",
   "metadata": {},
   "source": [
    " - Use the price column as target\n",
    " - Use the columns carat, depth and table as features\n"
   ]
  },
  {
   "cell_type": "code",
   "execution_count": 20,
   "id": "83c845bd-ba6d-4e29-9c41-ce86b523ef7a",
   "metadata": {},
   "outputs": [],
   "source": [
    "y = df2[\"price\"]\n",
    "X = df2[[\"carat\",\"depth\",\"table\"]]"
   ]
  },
  {
   "cell_type": "markdown",
   "id": "55f4056b-c03e-4b26-bd6f-d54e49513958",
   "metadata": {},
   "source": [
    "<details>\n",
    "    <summary>Click here for a Hint</summary>\n",
    "    \n",
    "Refer to Task 2\n",
    "</details>\n"
   ]
  },
  {
   "cell_type": "markdown",
   "id": "75cd8d02-dcbc-4c04-8f8e-80239e9716bd",
   "metadata": {},
   "source": [
    "<details>\n",
    "    <summary>Click here for Solution</summary>\n",
    "\n",
    "```python\n",
    "y = df2[\"price\"]\n",
    "X = df2[[\"carat\",\"depth\",\"table\"]]\n",
    "```\n",
    "\n",
    "</details>\n"
   ]
  },
  {
   "cell_type": "markdown",
   "id": "815337b3-a6e2-446c-a27f-3c64180bca3b",
   "metadata": {},
   "source": [
    "### Exercise 3 - Split the data\n"
   ]
  },
  {
   "cell_type": "markdown",
   "id": "bfecbe1b-2bdd-45f3-be4d-6f81738ea137",
   "metadata": {},
   "source": [
    "Split the dataset into training and testing sets. Make 25% of the data as testing set. Use 42 as random state.\n"
   ]
  },
  {
   "cell_type": "code",
   "execution_count": 21,
   "id": "df0a1aa5-465d-424c-88af-69a9eacd9628",
   "metadata": {},
   "outputs": [],
   "source": [
    "X_train, X_test, y_train, y_test = train_test_split(X, y, test_size=0.25, random_state=42)"
   ]
  },
  {
   "cell_type": "markdown",
   "id": "8ca57b66-d490-4242-a608-185548727a82",
   "metadata": {},
   "source": [
    "<details>\n",
    "    <summary>Click here for a Hint</summary>\n",
    "    \n",
    "Use the train_test_split function\n",
    "</details>\n"
   ]
  },
  {
   "cell_type": "markdown",
   "id": "558c2d77-e61d-4dec-9da7-4fb16ba4f764",
   "metadata": {},
   "source": [
    "<details>\n",
    "    <summary>Click here for Solution</summary>\n",
    "\n",
    "```\n",
    "X_train, X_test, y_train, y_test = train_test_split(X, y, test_size=0.25, random_state=42)\n",
    "\n",
    "```\n",
    "\n",
    "</details>\n"
   ]
  },
  {
   "cell_type": "markdown",
   "id": "270d4211-9fe4-4494-8cae-9cfad5096501",
   "metadata": {},
   "source": [
    "### Exercise 4 - Predict values\n"
   ]
  },
  {
   "cell_type": "code",
   "execution_count": 22,
   "id": "7227662c-33a9-4b99-8093-b5b6d3867ff7",
   "metadata": {},
   "outputs": [
    {
     "data": {
      "text/plain": [
       "LinearRegression()"
      ]
     },
     "execution_count": 22,
     "metadata": {},
     "output_type": "execute_result"
    }
   ],
   "source": [
    "lr2 = LinearRegression()\n",
    "lr2.fit(X_train, y_train)"
   ]
  },
  {
   "cell_type": "markdown",
   "id": "d49d11d5-0c6f-4531-8060-03dc4e19426f",
   "metadata": {},
   "source": [
    "Predict the values using the test data.\n"
   ]
  },
  {
   "cell_type": "code",
   "execution_count": 23,
   "id": "571d264d-db3b-4672-8317-9150bfbe5449",
   "metadata": {},
   "outputs": [],
   "source": [
    "original_values = y_test\n",
    "predicted_values = lr2.predict(X_test)"
   ]
  },
  {
   "cell_type": "markdown",
   "id": "ede5b1cd-ba42-4ab8-9a1a-2a73a3aaa95b",
   "metadata": {},
   "source": [
    "<details>\n",
    "    <summary>Click here for a Hint</summary>\n",
    "    \n",
    "Use the predict() method\n",
    "</details>\n"
   ]
  },
  {
   "cell_type": "markdown",
   "id": "d49386e1-ce9a-46cc-9421-892b405483b7",
   "metadata": {},
   "source": [
    "<details>\n",
    "    <summary>Click here for Solution</summary>\n",
    "\n",
    "```python\n",
    "original_values = y_test\n",
    "predicted_values = lr2.predict(X_test)\n",
    "\n",
    "```\n",
    "\n",
    "</details>\n"
   ]
  },
  {
   "cell_type": "markdown",
   "id": "b7f50ccb-dd0c-438a-8de1-0b624c12a52f",
   "metadata": {},
   "source": [
    "### Exercise 5 - Evaluate the model\n"
   ]
  },
  {
   "cell_type": "markdown",
   "id": "4f694e46-03b0-4e48-8e00-7349af86e03a",
   "metadata": {},
   "source": [
    "Print the metrics :\n",
    "- R squared\n",
    "- mean absolute error\n",
    "- mean squared error\n",
    "- root mean squared error\n"
   ]
  },
  {
   "cell_type": "code",
   "execution_count": 24,
   "id": "e2393a2d-f259-4bfe-b9f1-d77e26ecd5cf",
   "metadata": {},
   "outputs": [
    {
     "name": "stdout",
     "output_type": "stream",
     "text": [
      "0.852949398522144\n",
      "991.8625215831571\n",
      "2310119.635474932\n",
      "1519.9077720292544\n"
     ]
    }
   ],
   "source": [
    "print(r2_score(original_values, predicted_values))\n",
    "print(mean_absolute_error(original_values, predicted_values))\n",
    "print(mean_squared_error(original_values, predicted_values))\n",
    "print(sqrt(mean_squared_error(original_values, predicted_values)))"
   ]
  },
  {
   "cell_type": "markdown",
   "id": "98303ddc-84f8-4404-9740-a1b2266da17d",
   "metadata": {},
   "source": [
    "<details>\n",
    "    <summary>Click here for a Hint</summary>\n",
    "    \n",
    "Use the metrics functions </details>\n"
   ]
  },
  {
   "cell_type": "markdown",
   "id": "d7091fd5-b629-4257-8909-a0b40226134a",
   "metadata": {},
   "source": [
    "<details>\n",
    "    <summary>Click here for Solution</summary>\n",
    "\n",
    "```python\n",
    "print(r2_score(original_values, predicted_values))\n",
    "print(mean_absolute_error(original_values, predicted_values))\n",
    "print(mean_squared_error(original_values, predicted_values))\n",
    "print(sqrt(mean_squared_error(original_values, predicted_values)))\n",
    "\n",
    "```\n",
    "\n",
    "</details>\n"
   ]
  },
  {
   "cell_type": "markdown",
   "id": "b089ab8f-3d65-4741-bb7f-091898389f19",
   "metadata": {},
   "source": [
    "Congratulations you have completed this lab.<br>\n"
   ]
  },
  {
   "cell_type": "markdown",
   "id": "6ae6ca0a-c7fd-49b6-95e7-2bed33a423a6",
   "metadata": {},
   "source": [
    "## Authors\n"
   ]
  },
  {
   "cell_type": "markdown",
   "id": "cd0c53a0-a455-47c1-806f-b7ce158b1aee",
   "metadata": {},
   "source": [
    "[Ramesh Sannareddy](https://www.linkedin.com/in/rsannareddy/)\n"
   ]
  },
  {
   "cell_type": "markdown",
   "id": "34e76d59-5c94-43dd-ad72-31b674d18416",
   "metadata": {},
   "source": [
    "### Other Contributors\n"
   ]
  },
  {
   "cell_type": "markdown",
   "id": "13c1e5db-382b-40b8-b553-5307cda765d3",
   "metadata": {},
   "source": [
    "## Change Log\n"
   ]
  },
  {
   "cell_type": "markdown",
   "id": "f680a614-7a67-4364-9a7c-e19f3f61a3af",
   "metadata": {},
   "source": [
    "|Date (YYYY-MM-DD)|Version|Changed By|Change Description|\n",
    "|-|-|-|-|\n",
    "|2023-04-15|0.1|Ramesh Sannareddy|Initial Version Created|\n"
   ]
  },
  {
   "cell_type": "markdown",
   "id": "db172fe2-b3db-4bee-9cf6-3c3aa5342a80",
   "metadata": {},
   "source": [
    "Copyright © 2023 IBM Corporation. All rights reserved.\n"
   ]
  }
 ],
 "metadata": {
  "kernelspec": {
   "display_name": "Python 3 (ipykernel)",
   "language": "python",
   "name": "python3"
  },
  "language_info": {
   "codemirror_mode": {
    "name": "ipython",
    "version": 3
   },
   "file_extension": ".py",
   "mimetype": "text/x-python",
   "name": "python",
   "nbconvert_exporter": "python",
   "pygments_lexer": "ipython3",
   "version": "3.10.12"
  }
 },
 "nbformat": 4,
 "nbformat_minor": 4
}
